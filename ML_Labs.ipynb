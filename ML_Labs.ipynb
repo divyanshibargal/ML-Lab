{
  "nbformat": 4,
  "nbformat_minor": 0,
  "metadata": {
    "colab": {
      "provenance": [],
      "include_colab_link": true
    },
    "kernelspec": {
      "name": "python3",
      "display_name": "Python 3"
    },
    "language_info": {
      "name": "python"
    }
  },
  "cells": [
    {
      "cell_type": "markdown",
      "metadata": {
        "id": "view-in-github",
        "colab_type": "text"
      },
      "source": [
        "<a href=\"https://colab.research.google.com/github/divyanshibargal/ML-Lab/blob/main/ML_Labs.ipynb\" target=\"_parent\"><img src=\"https://colab.research.google.com/assets/colab-badge.svg\" alt=\"Open In Colab\"/></a>"
      ]
    },
    {
      "cell_type": "code",
      "source": [
        "# normal for loop\n",
        "l=[1,2,3,4,4]\n",
        "for i in l:\n",
        "  print(i)"
      ],
      "metadata": {
        "colab": {
          "base_uri": "https://localhost:8080/"
        },
        "id": "_Skr8aZhhlj7",
        "outputId": "b892f660-33ed-477f-9f4c-91e001464b3e"
      },
      "execution_count": null,
      "outputs": [
        {
          "output_type": "stream",
          "name": "stdout",
          "text": [
            "1\n",
            "2\n",
            "3\n",
            "4\n",
            "4\n"
          ]
        }
      ]
    },
    {
      "cell_type": "code",
      "source": [
        "# list comprehension\n",
        "l=[1,2,3,4,5]\n",
        "l2=[i for i in l]\n",
        "print(l2)"
      ],
      "metadata": {
        "colab": {
          "base_uri": "https://localhost:8080/"
        },
        "id": "O946tenQhsFD",
        "outputId": "c3c2777f-960f-48ce-f5f2-a6453510e8c4"
      },
      "execution_count": null,
      "outputs": [
        {
          "output_type": "stream",
          "name": "stdout",
          "text": [
            "[1, 2, 3, 4, 5]\n"
          ]
        }
      ]
    },
    {
      "cell_type": "code",
      "source": [
        "# Using list comprehension, construct a list from the squares of each element in the list,\n",
        "# if the square is greater than 50.\n",
        "\n",
        "l=[2, 4, 6, 8, 10, 114]\n",
        "ld = [i**2 for i in l if i**2>50]\n",
        "print(ld)"
      ],
      "metadata": {
        "colab": {
          "base_uri": "https://localhost:8080/"
        },
        "id": "2YXRwrqQhss2",
        "outputId": "ca4d4e82-b53d-46de-b56c-7f7d0901c207"
      },
      "execution_count": null,
      "outputs": [
        {
          "output_type": "stream",
          "name": "stdout",
          "text": [
            "[64, 100, 12996]\n"
          ]
        }
      ]
    },
    {
      "cell_type": "code",
      "source": [
        "# Given dictionary is consisted of vehicles and their weights in kilograms\n",
        "#  Contruct a list of the names of vehicles with weight below 5000 kilograms\n",
        "#  In the same list comprehension make\n",
        "#  the key names all upper case.\n",
        "dict={\"Sedan\": 1500, \"SUV\": 2000, \"Pickup\": 2500, \"Minivan\": 16000, \"Van\": 24000, \"Semi\": 13600}\n",
        "dict_der = [i.upper() for i in dict if dict[i]<5000]\n",
        "print(dict_der)"
      ],
      "metadata": {
        "colab": {
          "base_uri": "https://localhost:8080/"
        },
        "id": "S8el4bgnhveq",
        "outputId": "2cc406b3-555d-4310-95f3-cb7c547dc5ee"
      },
      "execution_count": null,
      "outputs": [
        {
          "output_type": "stream",
          "name": "stdout",
          "text": [
            "['SEDAN', 'SUV', 'PICKUP']\n"
          ]
        }
      ]
    },
    {
      "cell_type": "code",
      "source": [
        "# if else statement in list comprehension\n",
        "#for given list if value is greater than 5 print high else print low\n",
        "l=[1,2,3,4,5,6,7,8,9]\n",
        "l_derived = ['high' if i>5 else 'low' for i in l]\n",
        "print(l_derived)"
      ],
      "metadata": {
        "colab": {
          "base_uri": "https://localhost:8080/"
        },
        "id": "tf_A8lgyh3Ii",
        "outputId": "a0bc7d38-e6e5-4b4e-8c34-ec775b9485e2"
      },
      "execution_count": null,
      "outputs": [
        {
          "output_type": "stream",
          "name": "stdout",
          "text": [
            "['low', 'low', 'low', 'low', 'low', 'high', 'high', 'high', 'high']\n"
          ]
        }
      ]
    },
    {
      "cell_type": "code",
      "source": [
        "# If x to the power of 2 is less than or equal to  10, execute 27*x for values in range 1 to 20\n",
        "l = [27*i for i in range(1,21) if i**2 <= 10]\n",
        "print(l)"
      ],
      "metadata": {
        "colab": {
          "base_uri": "https://localhost:8080/"
        },
        "id": "Z7dnQT0zh6h6",
        "outputId": "9c6330c3-9d09-4579-d61c-58b004a61447"
      },
      "execution_count": null,
      "outputs": [
        {
          "output_type": "stream",
          "name": "stdout",
          "text": [
            "[27, 54, 81]\n"
          ]
        }
      ]
    },
    {
      "cell_type": "code",
      "source": [
        "# EVEN NUMBERS in a range\n",
        "number_list = [i for i in range(1,50) if i%2==0  ]\n",
        "print(number_list)"
      ],
      "metadata": {
        "colab": {
          "base_uri": "https://localhost:8080/"
        },
        "id": "eUbR2ofSiYhM",
        "outputId": "b7082a55-a6b9-4eee-e960-e6f7fe3c7e48"
      },
      "execution_count": null,
      "outputs": [
        {
          "output_type": "stream",
          "name": "stdout",
          "text": [
            "[2, 4, 6, 8, 10, 12, 14, 16, 18, 20, 22, 24, 26, 28, 30, 32, 34, 36, 38, 40, 42, 44, 46, 48]\n"
          ]
        }
      ]
    },
    {
      "cell_type": "code",
      "source": [
        "# Find all numbers that can be DIVIDED BY 2 AND 5 in some range\n",
        "num_list = [i for i in range(1,100) if i%2==0 and i%5==0]\n",
        "print(num_list)"
      ],
      "metadata": {
        "colab": {
          "base_uri": "https://localhost:8080/"
        },
        "id": "qIwLnW7risJq",
        "outputId": "99a1bfdd-a59d-4f15-a6fb-896c9c758350"
      },
      "execution_count": null,
      "outputs": [
        {
          "output_type": "stream",
          "name": "stdout",
          "text": [
            "[10, 20, 30, 40, 50, 60, 70, 80, 90]\n"
          ]
        }
      ]
    },
    {
      "cell_type": "code",
      "source": [
        "# Conditional Statements - iterating to find the even and odds from a list\n",
        "obj =  [\"even\" if i%2==0 else \"odd\" for i in range(1,20)]\n",
        "print(obj)"
      ],
      "metadata": {
        "colab": {
          "base_uri": "https://localhost:8080/"
        },
        "id": "w_rH38kui9us",
        "outputId": "3c8c6932-89db-4192-8b61-1bac376cd5f2"
      },
      "execution_count": null,
      "outputs": [
        {
          "output_type": "stream",
          "name": "stdout",
          "text": [
            "['even', 'odd', 'even', 'odd', 'even', 'odd', 'even', 'odd', 'even', 'odd', 'even', 'odd', 'even', 'odd', 'even', 'odd', 'even', 'odd', 'even', 'odd']\n"
          ]
        }
      ]
    },
    {
      "cell_type": "code",
      "source": [
        "#print the table of 5 from 1 to 30\n",
        "l = [f\"5 * {i} = {5*i}\" for i in range(1,31)]\n",
        "print(l)"
      ],
      "metadata": {
        "colab": {
          "base_uri": "https://localhost:8080/"
        },
        "id": "JLWxqt7qjTe0",
        "outputId": "548bba9a-e3c9-4baa-d4a8-279bf822af08"
      },
      "execution_count": null,
      "outputs": [
        {
          "output_type": "stream",
          "name": "stdout",
          "text": [
            "['5 * 1 = 5', '5 * 2 = 10', '5 * 3 = 15', '5 * 4 = 20', '5 * 5 = 25', '5 * 6 = 30', '5 * 7 = 35', '5 * 8 = 40', '5 * 9 = 45', '5 * 10 = 50', '5 * 11 = 55', '5 * 12 = 60', '5 * 13 = 65', '5 * 14 = 70', '5 * 15 = 75', '5 * 16 = 80', '5 * 17 = 85', '5 * 18 = 90', '5 * 19 = 95', '5 * 20 = 100', '5 * 21 = 105', '5 * 22 = 110', '5 * 23 = 115', '5 * 24 = 120', '5 * 25 = 125', '5 * 26 = 130', '5 * 27 = 135', '5 * 28 = 140', '5 * 29 = 145', '5 * 30 = 150']\n"
          ]
        }
      ]
    },
    {
      "cell_type": "code",
      "source": [
        "#string=\"I love this CSIT Department\" Count the number of vowels and consonants in the string\n",
        "string=\"i love this csit department\"\n",
        "j=[]\n",
        "for i in string:\n",
        "  if(i in ['a','e','i','o','u']):\n",
        "    j.append(i)\n",
        "print(j)\n",
        "len(j)"
      ],
      "metadata": {
        "colab": {
          "base_uri": "https://localhost:8080/"
        },
        "id": "eEvNV8NwjhAc",
        "outputId": "7ec7d18d-c8f5-4c0b-caa6-ad0b4fe3832d"
      },
      "execution_count": null,
      "outputs": [
        {
          "output_type": "stream",
          "name": "stdout",
          "text": [
            "['i', 'o', 'e', 'i', 'i', 'e', 'a', 'e']\n"
          ]
        },
        {
          "output_type": "execute_result",
          "data": {
            "text/plain": [
              "8"
            ]
          },
          "metadata": {},
          "execution_count": 35
        }
      ]
    },
    {
      "cell_type": "code",
      "source": [
        "string = 'i love this csit department'\n",
        "l = [i for i in string if i in ['a','e','i','o','u']]\n",
        "print(l)\n",
        "print(len(l))"
      ],
      "metadata": {
        "colab": {
          "base_uri": "https://localhost:8080/"
        },
        "id": "iZhfguyIkYLj",
        "outputId": "6bf89476-d0f8-41aa-aba7-5166cff0e266"
      },
      "execution_count": null,
      "outputs": [
        {
          "output_type": "stream",
          "name": "stdout",
          "text": [
            "['i', 'o', 'e', 'i', 'i', 'e', 'a', 'e']\n",
            "8\n"
          ]
        }
      ]
    },
    {
      "cell_type": "code",
      "source": [
        "'''\n",
        "Get only the numbers in a sentence like 'In 1984 there were 13 instances of a protest with over 1000 people attending'.  Result is a list of numbers like [3,4,5]\n",
        "'''\n",
        "sentence = 'In 1984 there were 13 instances of a protest with over 1000 people attending'\n",
        "words = sentence.split()\n",
        "result = [number for number in words if not number.isalpha() ]\n",
        "print(result)"
      ],
      "metadata": {
        "colab": {
          "base_uri": "https://localhost:8080/"
        },
        "id": "q2rDJI6olPW0",
        "outputId": "32f0be9c-5aba-4816-9f71-d7d680c3f4c2"
      },
      "execution_count": null,
      "outputs": [
        {
          "output_type": "stream",
          "name": "stdout",
          "text": [
            "['1984', '13', '1000']\n"
          ]
        }
      ]
    },
    {
      "cell_type": "code",
      "source": [
        "'''\n",
        "Find the common numbers in two lists (without using a tuple or set) list_a = [1, 2, 3, 4], list_b = [2, 3, 4, 5]\n",
        "'''\n",
        "list_a = [1, 2, 3, 4]\n",
        "list_b = [2, 3, 4, 5]\n",
        "common = [i for i in list_a if i in list_b]\n",
        "print(common)"
      ],
      "metadata": {
        "colab": {
          "base_uri": "https://localhost:8080/"
        },
        "id": "rjgx4NKIlaHI",
        "outputId": "4e01b5c4-89a5-46af-da23-1840f3418df3"
      },
      "execution_count": null,
      "outputs": [
        {
          "output_type": "stream",
          "name": "stdout",
          "text": [
            "[2, 3, 4]\n"
          ]
        }
      ]
    },
    {
      "cell_type": "code",
      "source": [
        "import pandas as pd\n",
        "\n",
        "df = pd.DataFrame({\"Name\": ['Deependra','Aditya','Aarav','Ashutosh'],\n",
        "                   \"Age\": [20,19,21,20]})\n",
        "\n",
        "print(df)"
      ],
      "metadata": {
        "colab": {
          "base_uri": "https://localhost:8080/"
        },
        "id": "AoueATy8lwoP",
        "outputId": "cf7fed8f-2efc-4e01-eed8-7a61558062b2"
      },
      "execution_count": null,
      "outputs": [
        {
          "output_type": "stream",
          "name": "stdout",
          "text": [
            "        Name  Age\n",
            "0  Deependra   20\n",
            "1     Aditya   19\n",
            "2      Aarav   21\n",
            "3   Ashutosh   20\n"
          ]
        }
      ]
    },
    {
      "cell_type": "code",
      "source": [
        "df[\"Time\"] = [3,4,5,6]\n",
        "df[\"City\"] = [\"Dewas\",\"Indore\",\"Indore\",\"Indore\"]"
      ],
      "metadata": {
        "id": "A8LN2iHMm58s"
      },
      "execution_count": null,
      "outputs": []
    },
    {
      "cell_type": "code",
      "source": [
        "print(df)"
      ],
      "metadata": {
        "colab": {
          "base_uri": "https://localhost:8080/"
        },
        "id": "17i3ikrOnPRW",
        "outputId": "dc45b966-2cdb-46b1-f2de-fe34b87393b9"
      },
      "execution_count": null,
      "outputs": [
        {
          "output_type": "stream",
          "name": "stdout",
          "text": [
            "        Name  Age  Time    City\n",
            "0  Deependra   20     3   Dewas\n",
            "1     Aditya   19     4  Indore\n",
            "2      Aarav   21     5  Indore\n",
            "3   Ashutosh   20     6  Indore\n"
          ]
        }
      ]
    },
    {
      "cell_type": "code",
      "source": [
        "colnames = [i for i in df]\n",
        "print(colnames)"
      ],
      "metadata": {
        "colab": {
          "base_uri": "https://localhost:8080/"
        },
        "id": "MbNkTFAPnQT7",
        "outputId": "bd6e0a3a-ad9a-4ee5-9459-1774c19c5b7c"
      },
      "execution_count": null,
      "outputs": [
        {
          "output_type": "stream",
          "name": "stdout",
          "text": [
            "['Name', 'Age', 'Time', 'City']\n"
          ]
        }
      ]
    },
    {
      "cell_type": "code",
      "source": [
        "age = [i for i in df['Age']]\n",
        "print(age)"
      ],
      "metadata": {
        "colab": {
          "base_uri": "https://localhost:8080/"
        },
        "id": "vpqXHgaRnflY",
        "outputId": "af13cf34-562f-4f71-cb9b-7cadf4ae9c06"
      },
      "execution_count": null,
      "outputs": [
        {
          "output_type": "stream",
          "name": "stdout",
          "text": [
            "[20, 19, 21, 20]\n"
          ]
        }
      ]
    },
    {
      "cell_type": "code",
      "source": [],
      "metadata": {
        "id": "OnP6UTlInqLs"
      },
      "execution_count": null,
      "outputs": []
    }
  ]
}