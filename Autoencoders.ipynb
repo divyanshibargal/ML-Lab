{
  "nbformat": 4,
  "nbformat_minor": 0,
  "metadata": {
    "colab": {
      "provenance": [],
      "include_colab_link": true
    },
    "kernelspec": {
      "name": "python3",
      "display_name": "Python 3"
    }
  },
  "cells": [
    {
      "cell_type": "markdown",
      "metadata": {
        "id": "view-in-github",
        "colab_type": "text"
      },
      "source": [
        "<a href=\"https://colab.research.google.com/github/divyanshibargal/ML-Lab/blob/main/Autoencoders.ipynb\" target=\"_parent\"><img src=\"https://colab.research.google.com/assets/colab-badge.svg\" alt=\"Open In Colab\"/></a>"
      ]
    },
    {
      "cell_type": "code",
      "metadata": {
        "id": "WQl8TSiHSOCU"
      },
      "source": [
        "from keras.layers import Input, Dense\n",
        "from keras.models import Model\n",
        "\n",
        "# this is the size of our encoded representations\n",
        "encoding_dim = 128  # 32 floats -> compression of factor 24.5, assuming the input is 784 floats\n",
        "\n",
        "# this is our input placeholder\n",
        "input_img = Input(shape=(784,))\n",
        "# \"encoded\" is the encoded representation of the input\n",
        "encoded = Dense(encoding_dim, activation='relu')(input_img)\n",
        "# \"decoded\" is the lossy reconstruction of the input\n",
        "decoded = Dense(784, activation='sigmoid')(encoded)\n",
        "\n",
        "# this model maps an input to its reconstruction\n",
        "autoencoder = Model(input_img, decoded)"
      ],
      "execution_count": 1,
      "outputs": []
    },
    {
      "cell_type": "code",
      "metadata": {
        "id": "Gq173u9YSTvU"
      },
      "source": [
        "# this model maps an input to its encoded representation\n",
        "encoder = Model(input_img, encoded)"
      ],
      "execution_count": 2,
      "outputs": []
    },
    {
      "cell_type": "code",
      "metadata": {
        "id": "q3K4BB0VSbfD"
      },
      "source": [
        "# create a placeholder for an encoded (32-dimensional) input\n",
        "encoded_input = Input(shape=(encoding_dim,))\n",
        "# retrieve the last layer of the autoencoder model\n",
        "decoder_layer = autoencoder.layers[-1]\n",
        "# create the decoder model\n",
        "decoder = Model(encoded_input, decoder_layer(encoded_input))"
      ],
      "execution_count": 3,
      "outputs": []
    },
    {
      "cell_type": "code",
      "metadata": {
        "id": "txJYhPm1SfLq"
      },
      "source": [
        "autoencoder.compile(optimizer='RMSprop', loss='binary_crossentropy')"
      ],
      "execution_count": 4,
      "outputs": []
    },
    {
      "cell_type": "code",
      "metadata": {
        "id": "ox4PzfObSiQd",
        "colab": {
          "base_uri": "https://localhost:8080/"
        },
        "outputId": "0506a65e-54d6-45da-eb13-c56ba2d25d2b"
      },
      "source": [
        "from keras.datasets import mnist\n",
        "import numpy as np\n",
        "(x_train, _), (x_test, _) = mnist.load_data()"
      ],
      "execution_count": 5,
      "outputs": [
        {
          "output_type": "stream",
          "name": "stdout",
          "text": [
            "Downloading data from https://storage.googleapis.com/tensorflow/tf-keras-datasets/mnist.npz\n",
            "11490434/11490434 [==============================] - 0s 0us/step\n"
          ]
        }
      ]
    },
    {
      "cell_type": "code",
      "metadata": {
        "id": "5riYiwmoSlDz",
        "colab": {
          "base_uri": "https://localhost:8080/"
        },
        "outputId": "318fdb61-8fe7-40c6-c41c-b5197b0a0196"
      },
      "source": [
        "x_train = x_train.astype('float32') / 255.\n",
        "x_test = x_test.astype('float32') / 255.\n",
        "x_train = x_train.reshape((len(x_train), np.prod(x_train.shape[1:])))\n",
        "x_test = x_test.reshape((len(x_test), np.prod(x_test.shape[1:])))\n",
        "print (x_train.shape)\n",
        "print (x_test.shape)"
      ],
      "execution_count": 6,
      "outputs": [
        {
          "output_type": "stream",
          "name": "stdout",
          "text": [
            "(60000, 784)\n",
            "(10000, 784)\n"
          ]
        }
      ]
    },
    {
      "cell_type": "code",
      "metadata": {
        "id": "zzkP2dNISsfq",
        "colab": {
          "base_uri": "https://localhost:8080/"
        },
        "outputId": "1a65d453-b62f-4e87-944d-cbb0f50fa1a8"
      },
      "source": [
        "autoencoder.fit(x_train, x_train,\n",
        "                epochs=12,\n",
        "                batch_size=144,\n",
        "                shuffle=True,\n",
        "                validation_data=(x_test, x_test))"
      ],
      "execution_count": 7,
      "outputs": [
        {
          "output_type": "stream",
          "name": "stdout",
          "text": [
            "Epoch 1/12\n",
            "417/417 [==============================] - 5s 10ms/step - loss: 0.2393 - val_loss: 0.1765\n",
            "Epoch 2/12\n",
            "417/417 [==============================] - 5s 12ms/step - loss: 0.1588 - val_loss: 0.1425\n",
            "Epoch 3/12\n",
            "417/417 [==============================] - 4s 10ms/step - loss: 0.1337 - val_loss: 0.1239\n",
            "Epoch 4/12\n",
            "417/417 [==============================] - 4s 10ms/step - loss: 0.1185 - val_loss: 0.1111\n",
            "Epoch 5/12\n",
            "417/417 [==============================] - 5s 12ms/step - loss: 0.1076 - val_loss: 0.1018\n",
            "Epoch 6/12\n",
            "417/417 [==============================] - 4s 10ms/step - loss: 0.0998 - val_loss: 0.0953\n",
            "Epoch 7/12\n",
            "417/417 [==============================] - 4s 10ms/step - loss: 0.0944 - val_loss: 0.0910\n",
            "Epoch 8/12\n",
            "417/417 [==============================] - 5s 12ms/step - loss: 0.0907 - val_loss: 0.0879\n",
            "Epoch 9/12\n",
            "417/417 [==============================] - 4s 9ms/step - loss: 0.0879 - val_loss: 0.0856\n",
            "Epoch 10/12\n",
            "417/417 [==============================] - 4s 10ms/step - loss: 0.0858 - val_loss: 0.0837\n",
            "Epoch 11/12\n",
            "417/417 [==============================] - 6s 15ms/step - loss: 0.0840 - val_loss: 0.0822\n",
            "Epoch 12/12\n",
            "417/417 [==============================] - 4s 9ms/step - loss: 0.0826 - val_loss: 0.0809\n"
          ]
        },
        {
          "output_type": "execute_result",
          "data": {
            "text/plain": [
              "<keras.src.callbacks.History at 0x7e35e4b9d9c0>"
            ]
          },
          "metadata": {},
          "execution_count": 7
        }
      ]
    },
    {
      "cell_type": "code",
      "metadata": {
        "id": "OUr7fRVwSwHY",
        "colab": {
          "base_uri": "https://localhost:8080/"
        },
        "outputId": "10768ac8-842a-4ded-f822-763edd08ec6a"
      },
      "source": [
        "# encode and decode some digits\n",
        "# note that we take them from the *test* set\n",
        "encoded_imgs = encoder.predict(x_test)\n",
        "decoded_imgs = decoder.predict(encoded_imgs)"
      ],
      "execution_count": 8,
      "outputs": [
        {
          "output_type": "stream",
          "name": "stdout",
          "text": [
            "313/313 [==============================] - 1s 2ms/step\n",
            "313/313 [==============================] - 1s 3ms/step\n"
          ]
        }
      ]
    },
    {
      "cell_type": "code",
      "metadata": {
        "id": "HqkoJw8xSzH1",
        "colab": {
          "base_uri": "https://localhost:8080/",
          "height": 252
        },
        "outputId": "37818ecf-b5c6-44bb-c94d-c8401c079bbf"
      },
      "source": [
        "# use Matplotlib (don't ask)\n",
        "import matplotlib.pyplot as plt\n",
        "\n",
        "n = 10  # how many digits we will display\n",
        "plt.figure(figsize=(20, 4))\n",
        "for i in range(n):\n",
        "    # display original\n",
        "    ax = plt.subplot(2, n, i + 1)\n",
        "    plt.imshow(x_test[i].reshape(28, 28))\n",
        "    plt.gray()\n",
        "    ax.get_xaxis().set_visible(False)\n",
        "    ax.get_yaxis().set_visible(False)\n",
        "\n",
        "    # display reconstruction\n",
        "    ax = plt.subplot(2, n, i + 1 + n)\n",
        "    plt.imshow(decoded_imgs[i].reshape(28, 28))\n",
        "    plt.gray()\n",
        "    ax.get_xaxis().set_visible(False)\n",
        "    ax.get_yaxis().set_visible(False)\n",
        "plt.show()"
      ],
      "execution_count": 9,
      "outputs": [
        {
          "output_type": "display_data",
          "data": {
            "text/plain": [
              "<Figure size 2000x400 with 20 Axes>"
            ],
            "image/png": "[encoded data removed]"
          },
          "metadata": {}
        }
      ]
    },
    {
      "cell_type": "code",
      "source": [
        "from keras.layers import Input, Dense\n",
        "from keras.models import Model\n",
        "\n",
        "# Define the size of the encoded representation\n",
        "encoding_dim = 32  # 32 floats -> compression of factor 24.5, assuming the input is 784 floats\n",
        "\n",
        "# Input placeholder\n",
        "input_img = Input(shape=(784,))\n",
        "\n",
        "# Encoding layers\n",
        "encoded = Dense(128, activation='relu')(input_img)\n",
        "encoded = Dense(64, activation='relu')(encoded)\n",
        "encoded = Dense(encoding_dim, activation='relu')(encoded)\n",
        "\n",
        "# Decoding layers\n",
        "decoded = Dense(64, activation='relu')(encoded)\n",
        "decoded = Dense(128, activation='relu')(decoded)\n",
        "decoded = Dense(784, activation='sigmoid')(decoded)\n",
        "\n",
        "# Autoencoder model\n",
        "autoencoder = Model(input_img, decoded)\n",
        "\n",
        "# Encoder model\n",
        "encoder = Model(input_img, encoded)\n",
        "\n",
        "# Decoder model\n",
        "encoded_input = Input(shape=(encoding_dim,))\n",
        "decoder_layer1 = autoencoder.layers[-3]\n",
        "decoder_layer2 = autoencoder.layers[-2]\n",
        "decoder_layer3 = autoencoder.layers[-1]\n",
        "decoder = Model(encoded_input, decoder_layer3(decoder_layer2(decoder_layer1(encoded_input))))\n"
      ],
      "metadata": {
        "id": "ODd0yFC1bl7l"
      },
      "execution_count": 10,
      "outputs": []
    },
    {
      "cell_type": "code",
      "source": [
        "# Compile the model\n",
        "autoencoder.compile(optimizer='adam', loss='binary_crossentropy')\n",
        "\n",
        "# Train the model\n",
        "autoencoder.fit(x_train, x_train,\n",
        "                epochs=50,\n",
        "                batch_size=256,\n",
        "                shuffle=True,\n",
        "                validation_data=(x_test, x_test))\n",
        "\n"
      ],
      "metadata": {
        "colab": {
          "base_uri": "https://localhost:8080/"
        },
        "id": "pedaPEaRcAic",
        "outputId": "1540ff58-b47e-425f-8ff7-040d0440b31f"
      },
      "execution_count": 11,
      "outputs": [
        {
          "output_type": "stream",
          "name": "stdout",
          "text": [
            "Epoch 1/50\n",
            "235/235 [==============================] - 7s 21ms/step - loss: 0.2480 - val_loss: 0.1695\n",
            "Epoch 2/50\n",
            "235/235 [==============================] - 4s 16ms/step - loss: 0.1527 - val_loss: 0.1360\n",
            "Epoch 3/50\n",
            "235/235 [==============================] - 7s 28ms/step - loss: 0.1296 - val_loss: 0.1216\n",
            "Epoch 4/50\n",
            "235/235 [==============================] - 5s 22ms/step - loss: 0.1194 - val_loss: 0.1152\n",
            "Epoch 5/50\n",
            "235/235 [==============================] - 4s 16ms/step - loss: 0.1140 - val_loss: 0.1110\n",
            "Epoch 6/50\n",
            "235/235 [==============================] - 5s 19ms/step - loss: 0.1105 - val_loss: 0.1076\n",
            "Epoch 7/50\n",
            "235/235 [==============================] - 4s 17ms/step - loss: 0.1074 - val_loss: 0.1054\n",
            "Epoch 8/50\n",
            "235/235 [==============================] - 4s 16ms/step - loss: 0.1048 - val_loss: 0.1023\n",
            "Epoch 9/50\n",
            "235/235 [==============================] - 6s 24ms/step - loss: 0.1025 - val_loss: 0.1006\n",
            "Epoch 10/50\n",
            "235/235 [==============================] - 4s 17ms/step - loss: 0.1006 - val_loss: 0.0986\n",
            "Epoch 11/50\n",
            "235/235 [==============================] - 4s 16ms/step - loss: 0.0988 - val_loss: 0.0969\n",
            "Epoch 12/50\n",
            "235/235 [==============================] - 4s 17ms/step - loss: 0.0973 - val_loss: 0.0959\n",
            "Epoch 13/50\n",
            "235/235 [==============================] - 4s 18ms/step - loss: 0.0959 - val_loss: 0.0942\n",
            "Epoch 14/50\n",
            "235/235 [==============================] - 4s 16ms/step - loss: 0.0947 - val_loss: 0.0953\n",
            "Epoch 15/50\n",
            "235/235 [==============================] - 4s 16ms/step - loss: 0.0935 - val_loss: 0.0920\n",
            "Epoch 16/50\n",
            "235/235 [==============================] - 5s 20ms/step - loss: 0.0925 - val_loss: 0.0911\n",
            "Epoch 17/50\n",
            "235/235 [==============================] - 4s 16ms/step - loss: 0.0917 - val_loss: 0.0917\n",
            "Epoch 18/50\n",
            "235/235 [==============================] - 4s 16ms/step - loss: 0.0910 - val_loss: 0.0900\n",
            "Epoch 19/50\n",
            "235/235 [==============================] - 5s 20ms/step - loss: 0.0904 - val_loss: 0.0894\n",
            "Epoch 20/50\n",
            "235/235 [==============================] - 4s 16ms/step - loss: 0.0898 - val_loss: 0.0889\n",
            "Epoch 21/50\n",
            "235/235 [==============================] - 4s 16ms/step - loss: 0.0893 - val_loss: 0.0882\n",
            "Epoch 22/50\n",
            "235/235 [==============================] - 5s 21ms/step - loss: 0.0888 - val_loss: 0.0887\n",
            "Epoch 23/50\n",
            "235/235 [==============================] - 4s 16ms/step - loss: 0.0884 - val_loss: 0.0876\n",
            "Epoch 24/50\n",
            "235/235 [==============================] - 4s 16ms/step - loss: 0.0880 - val_loss: 0.0872\n",
            "Epoch 25/50\n",
            "235/235 [==============================] - 5s 20ms/step - loss: 0.0877 - val_loss: 0.0870\n",
            "Epoch 26/50\n",
            "235/235 [==============================] - 4s 16ms/step - loss: 0.0873 - val_loss: 0.0864\n",
            "Epoch 27/50\n",
            "235/235 [==============================] - 4s 15ms/step - loss: 0.0870 - val_loss: 0.0863\n",
            "Epoch 28/50\n",
            "235/235 [==============================] - 4s 18ms/step - loss: 0.0867 - val_loss: 0.0859\n",
            "Epoch 29/50\n",
            "235/235 [==============================] - 4s 18ms/step - loss: 0.0865 - val_loss: 0.0857\n",
            "Epoch 30/50\n",
            "235/235 [==============================] - 4s 16ms/step - loss: 0.0862 - val_loss: 0.0854\n",
            "Epoch 31/50\n",
            "235/235 [==============================] - 4s 17ms/step - loss: 0.0859 - val_loss: 0.0850\n",
            "Epoch 32/50\n",
            "235/235 [==============================] - 4s 19ms/step - loss: 0.0856 - val_loss: 0.0848\n",
            "Epoch 33/50\n",
            "235/235 [==============================] - 4s 16ms/step - loss: 0.0854 - val_loss: 0.0848\n",
            "Epoch 34/50\n",
            "235/235 [==============================] - 4s 16ms/step - loss: 0.0851 - val_loss: 0.0843\n",
            "Epoch 35/50\n",
            "235/235 [==============================] - 5s 21ms/step - loss: 0.0849 - val_loss: 0.0843\n",
            "Epoch 36/50\n",
            "235/235 [==============================] - 4s 15ms/step - loss: 0.0847 - val_loss: 0.0840\n",
            "Epoch 37/50\n",
            "235/235 [==============================] - 4s 16ms/step - loss: 0.0844 - val_loss: 0.0838\n",
            "Epoch 38/50\n",
            "235/235 [==============================] - 5s 20ms/step - loss: 0.0842 - val_loss: 0.0837\n",
            "Epoch 39/50\n",
            "235/235 [==============================] - 4s 16ms/step - loss: 0.0841 - val_loss: 0.0833\n",
            "Epoch 40/50\n",
            "235/235 [==============================] - 4s 16ms/step - loss: 0.0839 - val_loss: 0.0833\n",
            "Epoch 41/50\n",
            "235/235 [==============================] - 5s 21ms/step - loss: 0.0837 - val_loss: 0.0830\n",
            "Epoch 42/50\n",
            "235/235 [==============================] - 4s 16ms/step - loss: 0.0836 - val_loss: 0.0827\n",
            "Epoch 43/50\n",
            "235/235 [==============================] - 4s 15ms/step - loss: 0.0834 - val_loss: 0.0828\n",
            "Epoch 44/50\n",
            "235/235 [==============================] - 4s 18ms/step - loss: 0.0832 - val_loss: 0.0829\n",
            "Epoch 45/50\n",
            "235/235 [==============================] - 4s 18ms/step - loss: 0.0831 - val_loss: 0.0826\n",
            "Epoch 46/50\n",
            "235/235 [==============================] - 4s 16ms/step - loss: 0.0829 - val_loss: 0.0826\n",
            "Epoch 47/50\n",
            "235/235 [==============================] - 4s 17ms/step - loss: 0.0827 - val_loss: 0.0822\n",
            "Epoch 48/50\n",
            "235/235 [==============================] - 5s 19ms/step - loss: 0.0826 - val_loss: 0.0822\n",
            "Epoch 49/50\n",
            "235/235 [==============================] - 4s 16ms/step - loss: 0.0825 - val_loss: 0.0818\n",
            "Epoch 50/50\n",
            "235/235 [==============================] - 4s 16ms/step - loss: 0.0824 - val_loss: 0.0819\n"
          ]
        },
        {
          "output_type": "execute_result",
          "data": {
            "text/plain": [
              "<keras.src.callbacks.History at 0x7e35e474d360>"
            ]
          },
          "metadata": {},
          "execution_count": 11
        }
      ]
    },
    {
      "cell_type": "code",
      "source": [
        "# encode and decode some digits\n",
        "# note that we take them from the *test* set\n",
        "encoded_imgs = encoder.predict(x_test)\n",
        "decoded_imgs = decoder.predict(encoded_imgs)"
      ],
      "metadata": {
        "colab": {
          "base_uri": "https://localhost:8080/"
        },
        "id": "NKK5C_rlcNDl",
        "outputId": "22b9a2bf-6318-4681-c706-e961368ae367"
      },
      "execution_count": 12,
      "outputs": [
        {
          "output_type": "stream",
          "name": "stdout",
          "text": [
            "313/313 [==============================] - 1s 2ms/step\n",
            "313/313 [==============================] - 1s 2ms/step\n"
          ]
        }
      ]
    },
    {
      "cell_type": "code",
      "source": [
        "# use Matplotlib (don't ask)\n",
        "import matplotlib.pyplot as plt\n",
        "\n",
        "n = 10  # how many digits we will display\n",
        "plt.figure(figsize=(20, 4))\n",
        "for i in range(n):\n",
        "    # display original\n",
        "    ax = plt.subplot(2, n, i + 1)\n",
        "    plt.imshow(x_test[i].reshape(28, 28))\n",
        "    plt.gray()\n",
        "    ax.get_xaxis().set_visible(False)\n",
        "    ax.get_yaxis().set_visible(False)\n",
        "\n",
        "    # display reconstruction\n",
        "    ax = plt.subplot(2, n, i + 1 + n)\n",
        "    plt.imshow(decoded_imgs[i].reshape(28, 28))\n",
        "    plt.gray()\n",
        "    ax.get_xaxis().set_visible(False)\n",
        "    ax.get_yaxis().set_visible(False)\n",
        "plt.show()"
      ],
      "metadata": {
        "colab": {
          "base_uri": "https://localhost:8080/",
          "height": 252
        },
        "id": "ZQA_n46BcI47",
        "outputId": "fe9b84b2-1a91-4fac-ebf4-03f5fb34f9a3"
      },
      "execution_count": 14,
      "outputs": [
        {
          "output_type": "display_data",
          "data": {
            "text/plain": [
              "<Figure size 2000x400 with 20 Axes>"
            ],
            "image/png": "[encoded data removed]"
          },
          "metadata": {}
        }
      ]
    }
  ]
}