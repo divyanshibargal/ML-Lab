{
  "nbformat": 4,
  "nbformat_minor": 0,
  "metadata": {
    "colab": {
      "provenance": [],
      "include_colab_link": true
    },
    "kernelspec": {
      "name": "python3",
      "display_name": "Python 3"
    },
    "language_info": {
      "name": "python"
    }
  },
  "cells": [
    {
      "cell_type": "markdown",
      "metadata": {
        "id": "view-in-github",
        "colab_type": "text"
      },
      "source": [
        "<a href=\"https://colab.research.google.com/github/divyanshibargal/ML-Lab/blob/main/Numpy_Basics.ipynb\" target=\"_parent\"><img src=\"https://colab.research.google.com/assets/colab-badge.svg\" alt=\"Open In Colab\"/></a>"
      ]
    },
    {
      "cell_type": "code",
      "execution_count": null,
      "metadata": {
        "id": "B0f03lJm2fhn"
      },
      "outputs": [],
      "source": [
        "import numpy as np"
      ]
    },
    {
      "cell_type": "markdown",
      "source": [
        "Creating a numpy array from python list."
      ],
      "metadata": {
        "id": "6pqv_Aza3F7n"
      }
    },
    {
      "cell_type": "code",
      "source": [
        "l = [1,2,3,4,5,6,7,8]\n",
        "arr = np.array(l)\n",
        "print(\"List: \", l)\n",
        "print(\"Array: \",arr)\n",
        "print()\n",
        "print(type(arr))"
      ],
      "metadata": {
        "colab": {
          "base_uri": "https://localhost:8080/"
        },
        "id": "wjFrXMTP2yEh",
        "outputId": "0a83f7f1-d779-4faf-f074-6fe3fe9c52cb"
      },
      "execution_count": null,
      "outputs": [
        {
          "output_type": "stream",
          "name": "stdout",
          "text": [
            "List:  [1, 2, 3, 4, 5, 6, 7, 8]\n",
            "Array:  [1 2 3 4 5 6 7 8]\n",
            "\n",
            "<class 'numpy.ndarray'>\n"
          ]
        }
      ]
    },
    {
      "cell_type": "markdown",
      "source": [
        "Having just few string elements in the python list, the numpy ndarray converts the whole list in the form of a string and didn't gave any error"
      ],
      "metadata": {
        "id": "WU7ZPVWR3QnI"
      }
    },
    {
      "cell_type": "code",
      "source": [
        "ls = [1,4,\"String\", 1.304903,\"float\"]\n",
        "arr = np.array(ls)\n",
        "print(\"List: \", ls)\n",
        "print(\"Array: \", arr)"
      ],
      "metadata": {
        "colab": {
          "base_uri": "https://localhost:8080/"
        },
        "id": "-ea4z5Ho2_CX",
        "outputId": "8bc6fff6-a4bf-4508-e384-c1f8771db263"
      },
      "execution_count": null,
      "outputs": [
        {
          "output_type": "stream",
          "name": "stdout",
          "text": [
            "List:  [1, 4, 'String', 1.304903, 'float']\n",
            "Array:  ['1' '4' 'String' '1.304903' 'float']\n"
          ]
        }
      ]
    },
    {
      "cell_type": "code",
      "source": [
        "# performing addition in numpy arrays: either both should be of equal size otherwise\n",
        "# there should be just one element in one of the array in order to perform broadcasting.\n",
        "\n",
        "a = np.array([1,2,4,5,6])\n",
        "b = np.array([23,39,29,59,2])\n",
        "c = np.array([10])\n",
        "\n",
        "print(\"Sum of a and b is: \", a+b)\n",
        "print(\"Sum of a and c is: \", a+c)"
      ],
      "metadata": {
        "colab": {
          "base_uri": "https://localhost:8080/"
        },
        "id": "Ff78I2Rm3xd3",
        "outputId": "be2859a9-5459-476a-bd2c-b84ea3170c1d"
      },
      "execution_count": null,
      "outputs": [
        {
          "output_type": "stream",
          "name": "stdout",
          "text": [
            "Sum of a and b is:  [24 41 33 64  8]\n",
            "Sum of a and c is:  [11 12 14 15 16]\n"
          ]
        }
      ]
    },
    {
      "cell_type": "code",
      "source": [
        "# performing dot product of two arrays\n",
        "\n",
        "arr1 = np.array([1,2,3,4,5])\n",
        "arr2 = np.array([9,1,59,39,4])\n",
        "\n",
        "print(\"Dot Product of arr1 and arr2 is: \", np.dot(arr1,arr2))"
      ],
      "metadata": {
        "colab": {
          "base_uri": "https://localhost:8080/"
        },
        "id": "kqyTzVOo4ytZ",
        "outputId": "f394ac24-43e7-4473-a19f-901aef00b168"
      },
      "execution_count": null,
      "outputs": [
        {
          "output_type": "stream",
          "name": "stdout",
          "text": [
            "Dot Product of arr1 and arr2 is:  364\n"
          ]
        }
      ]
    },
    {
      "cell_type": "code",
      "source": [
        "# Performance Determination of arrays and python by memory usage\n",
        "import sys\n",
        "l = [1,2,3,4,5,6]\n",
        "a = np.array(l)\n",
        "\n",
        "print(\"Memory Usage for list is: \", sys.getsizeof(l))\n",
        "print(\"Memory Usage for array is: \", a.nbytes)"
      ],
      "metadata": {
        "colab": {
          "base_uri": "https://localhost:8080/"
        },
        "id": "EsFJa78v5qOg",
        "outputId": "d9b19ae7-a073-4b28-a3e3-5b0acbd699dd"
      },
      "execution_count": null,
      "outputs": [
        {
          "output_type": "stream",
          "name": "stdout",
          "text": [
            "Memory Usage for list is:  104\n",
            "Memory Usage for array is:  48\n"
          ]
        }
      ]
    },
    {
      "cell_type": "code",
      "source": [
        "# creating np array from python lists and tuples\n",
        "\n",
        "list1 = [1,2,3,4,5,6]\n",
        "tuple1 = (1,2,3,4,5,6)\n",
        "\n",
        "arr1 = np.array(list1)\n",
        "arr2 = np.array(tuple1)\n",
        "\n",
        "print(\"Array from list: \", arr1)\n",
        "print(\"Array from tuple: \", arr2)"
      ],
      "metadata": {
        "colab": {
          "base_uri": "https://localhost:8080/"
        },
        "id": "u6Ozos6H6ZB5",
        "outputId": "e3711e57-5028-427a-a113-b7f17e001cd2"
      },
      "execution_count": null,
      "outputs": [
        {
          "output_type": "stream",
          "name": "stdout",
          "text": [
            "Array from list:  [1 2 3 4 5 6] 48\n",
            "Array from tuple:  [1 2 3 4 5 6] 48\n"
          ]
        }
      ]
    },
    {
      "cell_type": "code",
      "source": [
        "# creating a higher dimesional array from list which can be done by just nesting the lists\n",
        "\n",
        "nested_list = [[1,2,3,4],[5,6,7,8],[9,10,11,12],[13,14,15,16]]\n",
        "\n",
        "array = np.array(nested_list)\n",
        "print(\"2-D array is: \")\n",
        "print(array)"
      ],
      "metadata": {
        "colab": {
          "base_uri": "https://localhost:8080/"
        },
        "id": "aCSFRwqJ9EFZ",
        "outputId": "9eaec88d-0dd9-4d58-cd78-afc99f8b6242"
      },
      "execution_count": null,
      "outputs": [
        {
          "output_type": "stream",
          "name": "stdout",
          "text": [
            "2-D array is: \n",
            "[[ 1  2  3  4]\n",
            " [ 5  6  7  8]\n",
            " [ 9 10 11 12]\n",
            " [13 14 15 16]]\n"
          ]
        }
      ]
    },
    {
      "cell_type": "code",
      "source": [
        "# creating higher dimensional arrays using array creation functions\n",
        "\n",
        "# 1-d array\n",
        "\n",
        "array = np.arange(2,20,0.5,dtype=float)\n",
        "print(array)"
      ],
      "metadata": {
        "colab": {
          "base_uri": "https://localhost:8080/"
        },
        "id": "pGguAOm-_hjS",
        "outputId": "0e41c65f-7f8d-4889-f2e3-9bbb1041cf75"
      },
      "execution_count": null,
      "outputs": [
        {
          "output_type": "stream",
          "name": "stdout",
          "text": [
            "[ 2.   2.5  3.   3.5  4.   4.5  5.   5.5  6.   6.5  7.   7.5  8.   8.5\n",
            "  9.   9.5 10.  10.5 11.  11.5 12.  12.5 13.  13.5 14.  14.5 15.  15.5\n",
            " 16.  16.5 17.  17.5 18.  18.5 19.  19.5]\n"
          ]
        }
      ]
    },
    {
      "cell_type": "code",
      "source": [
        "# np.linspace enables you get evenly spaced data points between a range.\n",
        "\n",
        "array = np.linspace(2,3,num=5)\n",
        "print(array)"
      ],
      "metadata": {
        "colab": {
          "base_uri": "https://localhost:8080/"
        },
        "id": "Ga50qW8_AtHg",
        "outputId": "4c857820-3403-4d31-a894-b2d1c9a09987"
      },
      "execution_count": null,
      "outputs": [
        {
          "output_type": "stream",
          "name": "stdout",
          "text": [
            "[2.   2.25 2.5  2.75 3.  ]\n"
          ]
        }
      ]
    },
    {
      "cell_type": "code",
      "source": [
        "# 2-D array\n",
        "np.eye(4,4) # diagonal matrix with diagonal elements one and rest 0"
      ],
      "metadata": {
        "colab": {
          "base_uri": "https://localhost:8080/"
        },
        "id": "6FZL5ykWBUgp",
        "outputId": "53cd49e3-ac2a-4323-dccc-8acb58b641bf"
      },
      "execution_count": null,
      "outputs": [
        {
          "output_type": "execute_result",
          "data": {
            "text/plain": [
              "array([[1., 0., 0., 0.],\n",
              "       [0., 1., 0., 0.],\n",
              "       [0., 0., 1., 0.],\n",
              "       [0., 0., 0., 1.]])"
            ]
          },
          "metadata": {},
          "execution_count": 35
        }
      ]
    },
    {
      "cell_type": "code",
      "source": [
        "# 3-d arrays\n",
        "np.zeros((4,4))"
      ],
      "metadata": {
        "colab": {
          "base_uri": "https://localhost:8080/"
        },
        "id": "rEWAgafVB7zZ",
        "outputId": "d0a5c9be-01af-4c24-e87a-53484be58a6c"
      },
      "execution_count": null,
      "outputs": [
        {
          "output_type": "execute_result",
          "data": {
            "text/plain": [
              "array([[0., 0., 0., 0.],\n",
              "       [0., 0., 0., 0.],\n",
              "       [0., 0., 0., 0.],\n",
              "       [0., 0., 0., 0.]])"
            ]
          },
          "metadata": {},
          "execution_count": 37
        }
      ]
    },
    {
      "cell_type": "code",
      "source": [
        "np.ones((5,9))"
      ],
      "metadata": {
        "colab": {
          "base_uri": "https://localhost:8080/"
        },
        "id": "RkwSs1cWCPsJ",
        "outputId": "e52297ac-5128-4b58-8378-c7d1c3c0593a"
      },
      "execution_count": null,
      "outputs": [
        {
          "output_type": "execute_result",
          "data": {
            "text/plain": [
              "array([[1., 1., 1., 1., 1., 1., 1., 1., 1.],\n",
              "       [1., 1., 1., 1., 1., 1., 1., 1., 1.],\n",
              "       [1., 1., 1., 1., 1., 1., 1., 1., 1.],\n",
              "       [1., 1., 1., 1., 1., 1., 1., 1., 1.],\n",
              "       [1., 1., 1., 1., 1., 1., 1., 1., 1.]])"
            ]
          },
          "metadata": {},
          "execution_count": 38
        }
      ]
    },
    {
      "cell_type": "code",
      "source": [
        "np.empty([3,3], dtype=int) # gives uninitialised list with random data"
      ],
      "metadata": {
        "colab": {
          "base_uri": "https://localhost:8080/"
        },
        "id": "wUVgnmQpCbup",
        "outputId": "a92445c6-1441-423b-a90b-ecdff4144b88"
      },
      "execution_count": null,
      "outputs": [
        {
          "output_type": "execute_result",
          "data": {
            "text/plain": [
              "array([[219043332146,            0,            0],\n",
              "       [           0,            0,            0],\n",
              "       [           0,            0,            0]])"
            ]
          },
          "metadata": {},
          "execution_count": 42
        }
      ]
    },
    {
      "cell_type": "code",
      "source": [],
      "metadata": {
        "id": "mXrXmJxDCnNx"
      },
      "execution_count": null,
      "outputs": []
    }
  ]
}