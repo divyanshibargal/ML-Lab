{
  "nbformat": 4,
  "nbformat_minor": 0,
  "metadata": {
    "colab": {
      "provenance": [],
      "include_colab_link": true
    },
    "kernelspec": {
      "name": "python3",
      "display_name": "Python 3"
    },
    "language_info": {
      "name": "python"
    }
  },
  "cells": [
    {
      "cell_type": "markdown",
      "metadata": {
        "id": "view-in-github",
        "colab_type": "text"
      },
      "source": [
        "<a href=\"https://colab.research.google.com/github/divyanshibargal/ML-Lab/blob/main/Logistic_Regression_SKLearn.ipynb\" target=\"_parent\"><img src=\"https://colab.research.google.com/assets/colab-badge.svg\" alt=\"Open In Colab\"/></a>"
      ]
    },
    {
      "cell_type": "code",
      "execution_count": null,
      "metadata": {
        "id": "S7NkhZcafmCt"
      },
      "outputs": [],
      "source": [
        "# importing the required libraries and adding the recommended alias to them.\n",
        "\n",
        "import pandas as pd\n",
        "from sklearn.model_selection import train_test_split\n",
        "from sklearn.preprocessing import StandardScaler\n",
        "from sklearn.linear_model import LogisticRegression\n",
        "from sklearn.metrics import accuracy_score, classification_report, confusion_matrix\n",
        "import numpy as np\n",
        "import matplotlib.pyplot as plt"
      ]
    },
    {
      "cell_type": "code",
      "source": [
        "# reading the dataset from the sample_data\n",
        "\n",
        "data = pd.read_csv(\"/content/sample_data/dataset1 (3).csv\")"
      ],
      "metadata": {
        "id": "nCwAl2ymf3cX"
      },
      "execution_count": null,
      "outputs": []
    },
    {
      "cell_type": "code",
      "source": [
        "# getting the features and actual output in the form of dataframe\n",
        "\n",
        "X = data.iloc[:,:-1].values\n",
        "y = data.iloc[:, -1].values\n",
        "print(X)"
      ],
      "metadata": {
        "colab": {
          "base_uri": "https://localhost:8080/"
        },
        "id": "hDYnrv21gEso",
        "outputId": "78c5d30d-d799-4cf8-a966-0bda7e0bf26d"
      },
      "execution_count": null,
      "outputs": [
        {
          "output_type": "stream",
          "name": "stdout",
          "text": [
            "[[2.4443 1.5438]\n",
            " [4.2409 1.899 ]\n",
            " [5.8097 2.4711]\n",
            " [6.4423 3.359 ]\n",
            " [5.8097 3.2406]\n",
            " [6.3917 3.8128]\n",
            " [6.8725 4.4441]\n",
            " [6.7966 3.6747]\n",
            " [8.163  4.7401]\n",
            " [7.4038 3.8917]\n",
            " [7.6316 4.602 ]\n",
            " [7.7581 5.7265]\n",
            " [6.5688 4.9571]\n",
            " [5.3543 3.9903]\n",
            " [4.4686 3.0236]\n",
            " [2.9757 2.0568]\n",
            " [2.4443 1.2676]\n",
            " [0.9008 1.169 ]\n",
            " [2.1154 1.7411]\n",
            " [3.2794 1.386 ]\n",
            " [4.165  1.5636]\n",
            " [4.8482 1.8793]\n",
            " [3.33   2.7868]\n",
            " [5.1518 3.5563]\n",
            " [6.2652 4.0693]\n",
            " [6.2652 4.3849]\n",
            " [7.2014 1.5438]\n",
            " [7.6569 2.412 ]\n",
            " [6.1387 1.7806]\n",
            " [4.4939 1.4057]\n",
            " [4.8735 2.6093]\n",
            " [5.5314 3.0828]\n",
            " [6.0121 3.9311]\n",
            " [7.1508 4.7598]\n",
            " [7.7075 5.3122]\n",
            " [8.3148 5.7068]\n",
            " [8.5172 5.1149]\n",
            " [8.7449 5.4109]\n",
            " [7.8593 3.8128]\n",
            " [6.999  3.2406]\n",
            " [5.5061 2.9052]\n",
            " [4.9241 2.6882]\n",
            " [6.6447 3.8325]\n",
            " [7.6822 4.5428]\n",
            " [8.0364 5.7857]\n",
            " [8.9221 6.5552]\n",
            " [7.8593 5.253 ]\n",
            " [6.5941 5.2333]\n",
            " [6.0374 4.7598]\n",
            " [2.7227 4.5822]\n",
            " [1.9383 3.6549]\n",
            " [1.6852 2.9841]\n",
            " [4.3168 4.4244]\n",
            " [3.4312 3.7536]\n",
            " [5.4808 5.2728]\n",
            " [4.1144 4.8387]\n",
            " [3.2034 4.4244]\n",
            " [4.1144 5.3911]\n",
            " [5.1012 6.0817]\n",
            " [4.8988 5.5687]\n",
            " [5.9615 6.4565]\n",
            " [5.7591 6.0028]\n",
            " [6.6953 6.7722]\n",
            " [5.7338 6.6538]\n",
            " [6.6194 7.1471]\n",
            " [7.2014 7.5219]\n",
            " [7.2014 6.8314]\n",
            " [8.5931 7.6206]\n",
            " [7.7581 7.1865]\n",
            " [7.7581 7.7784]\n",
            " [5.1012 7.6009]\n",
            " [4.2156 6.496 ]\n",
            " [3.4818 5.8055]\n",
            " [2.3684 5.0163]\n",
            " [1.7864 4.1876]\n",
            " [0.9008 3.4379]\n",
            " [0.9008 5.7857]\n",
            " [1.9636 6.3382]\n",
            " [1.4069 4.9571]\n",
            " [2.419  6.8511]\n",
            " [2.8745 6.0817]\n",
            " [4.0132 7.1668]\n",
            " [4.6711 7.226 ]\n",
            " [5.1771 8.1533]\n",
            " [6.2146 7.4825]\n",
            " [5.4555 7.0484]\n",
            " [5.9868 8.5084]\n",
            " [4.0891 7.5417]\n",
            " [2.3937 7.2063]\n",
            " [1.331  6.5355]\n",
            " [1.7358 5.4503]\n",
            " [2.4443 5.8449]\n",
            " [3.1781 4.8979]\n",
            " [4.6711 5.8055]\n",
            " [5.9868 7.3641]\n",
            " [4.6711 6.2592]\n",
            " [7.581  8.3703]\n",
            " [4.6457 8.5676]\n",
            " [4.6457 8.1676]]\n"
          ]
        }
      ]
    },
    {
      "cell_type": "code",
      "source": [
        "# stacking the X with with ones\n",
        "\n",
        "X = np.hstack((np.matrix(np.ones(X.shape[0])).T, X))\n",
        "print(X)"
      ],
      "metadata": {
        "colab": {
          "base_uri": "https://localhost:8080/"
        },
        "id": "-Lmv09PqhBQq",
        "outputId": "254158ec-df4a-4a1d-ed9d-993058d35944"
      },
      "execution_count": null,
      "outputs": [
        {
          "output_type": "stream",
          "name": "stdout",
          "text": [
            "[[1.     2.4443 1.5438]\n",
            " [1.     4.2409 1.899 ]\n",
            " [1.     5.8097 2.4711]\n",
            " [1.     6.4423 3.359 ]\n",
            " [1.     5.8097 3.2406]\n",
            " [1.     6.3917 3.8128]\n",
            " [1.     6.8725 4.4441]\n",
            " [1.     6.7966 3.6747]\n",
            " [1.     8.163  4.7401]\n",
            " [1.     7.4038 3.8917]\n",
            " [1.     7.6316 4.602 ]\n",
            " [1.     7.7581 5.7265]\n",
            " [1.     6.5688 4.9571]\n",
            " [1.     5.3543 3.9903]\n",
            " [1.     4.4686 3.0236]\n",
            " [1.     2.9757 2.0568]\n",
            " [1.     2.4443 1.2676]\n",
            " [1.     0.9008 1.169 ]\n",
            " [1.     2.1154 1.7411]\n",
            " [1.     3.2794 1.386 ]\n",
            " [1.     4.165  1.5636]\n",
            " [1.     4.8482 1.8793]\n",
            " [1.     3.33   2.7868]\n",
            " [1.     5.1518 3.5563]\n",
            " [1.     6.2652 4.0693]\n",
            " [1.     6.2652 4.3849]\n",
            " [1.     7.2014 1.5438]\n",
            " [1.     7.6569 2.412 ]\n",
            " [1.     6.1387 1.7806]\n",
            " [1.     4.4939 1.4057]\n",
            " [1.     4.8735 2.6093]\n",
            " [1.     5.5314 3.0828]\n",
            " [1.     6.0121 3.9311]\n",
            " [1.     7.1508 4.7598]\n",
            " [1.     7.7075 5.3122]\n",
            " [1.     8.3148 5.7068]\n",
            " [1.     8.5172 5.1149]\n",
            " [1.     8.7449 5.4109]\n",
            " [1.     7.8593 3.8128]\n",
            " [1.     6.999  3.2406]\n",
            " [1.     5.5061 2.9052]\n",
            " [1.     4.9241 2.6882]\n",
            " [1.     6.6447 3.8325]\n",
            " [1.     7.6822 4.5428]\n",
            " [1.     8.0364 5.7857]\n",
            " [1.     8.9221 6.5552]\n",
            " [1.     7.8593 5.253 ]\n",
            " [1.     6.5941 5.2333]\n",
            " [1.     6.0374 4.7598]\n",
            " [1.     2.7227 4.5822]\n",
            " [1.     1.9383 3.6549]\n",
            " [1.     1.6852 2.9841]\n",
            " [1.     4.3168 4.4244]\n",
            " [1.     3.4312 3.7536]\n",
            " [1.     5.4808 5.2728]\n",
            " [1.     4.1144 4.8387]\n",
            " [1.     3.2034 4.4244]\n",
            " [1.     4.1144 5.3911]\n",
            " [1.     5.1012 6.0817]\n",
            " [1.     4.8988 5.5687]\n",
            " [1.     5.9615 6.4565]\n",
            " [1.     5.7591 6.0028]\n",
            " [1.     6.6953 6.7722]\n",
            " [1.     5.7338 6.6538]\n",
            " [1.     6.6194 7.1471]\n",
            " [1.     7.2014 7.5219]\n",
            " [1.     7.2014 6.8314]\n",
            " [1.     8.5931 7.6206]\n",
            " [1.     7.7581 7.1865]\n",
            " [1.     7.7581 7.7784]\n",
            " [1.     5.1012 7.6009]\n",
            " [1.     4.2156 6.496 ]\n",
            " [1.     3.4818 5.8055]\n",
            " [1.     2.3684 5.0163]\n",
            " [1.     1.7864 4.1876]\n",
            " [1.     0.9008 3.4379]\n",
            " [1.     0.9008 5.7857]\n",
            " [1.     1.9636 6.3382]\n",
            " [1.     1.4069 4.9571]\n",
            " [1.     2.419  6.8511]\n",
            " [1.     2.8745 6.0817]\n",
            " [1.     4.0132 7.1668]\n",
            " [1.     4.6711 7.226 ]\n",
            " [1.     5.1771 8.1533]\n",
            " [1.     6.2146 7.4825]\n",
            " [1.     5.4555 7.0484]\n",
            " [1.     5.9868 8.5084]\n",
            " [1.     4.0891 7.5417]\n",
            " [1.     2.3937 7.2063]\n",
            " [1.     1.331  6.5355]\n",
            " [1.     1.7358 5.4503]\n",
            " [1.     2.4443 5.8449]\n",
            " [1.     3.1781 4.8979]\n",
            " [1.     4.6711 5.8055]\n",
            " [1.     5.9868 7.3641]\n",
            " [1.     4.6711 6.2592]\n",
            " [1.     7.581  8.3703]\n",
            " [1.     4.6457 8.5676]\n",
            " [1.     4.6457 8.1676]]\n"
          ]
        }
      ]
    },
    {
      "cell_type": "code",
      "source": [
        "# Initialising the beta or theta values\n",
        "\n",
        "theta = np.matrix(np.zeros(X.shape[1]))"
      ],
      "metadata": {
        "id": "Er0Q_lBRh0i4"
      },
      "execution_count": null,
      "outputs": []
    },
    {
      "cell_type": "code",
      "source": [
        "# Splitting the data into various chunks for testing, training and validation\n",
        "\n",
        "X_train, X_test, y_train, y_test = train_test_split(X, y, test_size=0.2, random_state=42)"
      ],
      "metadata": {
        "id": "xlHr0MWBiWk0"
      },
      "execution_count": null,
      "outputs": []
    },
    {
      "cell_type": "code",
      "source": [
        "# Standardize the features using StandardScaler\n",
        "\n",
        "scaler = StandardScaler()\n",
        "X_train_scaled = scaler.fit_transform(np.asarray(X_train))\n",
        "X_test_scaled = scaler.transform(np.asarray(X_test))"
      ],
      "metadata": {
        "id": "EE4E8CIDik9u"
      },
      "execution_count": null,
      "outputs": []
    },
    {
      "cell_type": "code",
      "source": [
        "# Create and train the Logistic Regression model\n",
        "\n",
        "model = LogisticRegression()\n",
        "model.fit(X_train_scaled, y_train)"
      ],
      "metadata": {
        "colab": {
          "base_uri": "https://localhost:8080/",
          "height": 74
        },
        "id": "pizkG8FGiose",
        "outputId": "31b97683-6762-45da-f641-b45845e2add1"
      },
      "execution_count": null,
      "outputs": [
        {
          "output_type": "execute_result",
          "data": {
            "text/plain": [
              "LogisticRegression()"
            ],
            "text/html": [
              "<style>#sk-container-id-2 {color: black;background-color: white;}#sk-container-id-2 pre{padding: 0;}#sk-container-id-2 div.sk-toggleable {background-color: white;}#sk-container-id-2 label.sk-toggleable__label {cursor: pointer;display: block;width: 100%;margin-bottom: 0;padding: 0.3em;box-sizing: border-box;text-align: center;}#sk-container-id-2 label.sk-toggleable__label-arrow:before {content: \"▸\";float: left;margin-right: 0.25em;color: #696969;}#sk-container-id-2 label.sk-toggleable__label-arrow:hover:before {color: black;}#sk-container-id-2 div.sk-estimator:hover label.sk-toggleable__label-arrow:before {color: black;}#sk-container-id-2 div.sk-toggleable__content {max-height: 0;max-width: 0;overflow: hidden;text-align: left;background-color: #f0f8ff;}#sk-container-id-2 div.sk-toggleable__content pre {margin: 0.2em;color: black;border-radius: 0.25em;background-color: #f0f8ff;}#sk-container-id-2 input.sk-toggleable__control:checked~div.sk-toggleable__content {max-height: 200px;max-width: 100%;overflow: auto;}#sk-container-id-2 input.sk-toggleable__control:checked~label.sk-toggleable__label-arrow:before {content: \"▾\";}#sk-container-id-2 div.sk-estimator input.sk-toggleable__control:checked~label.sk-toggleable__label {background-color: #d4ebff;}#sk-container-id-2 div.sk-label input.sk-toggleable__control:checked~label.sk-toggleable__label {background-color: #d4ebff;}#sk-container-id-2 input.sk-hidden--visually {border: 0;clip: rect(1px 1px 1px 1px);clip: rect(1px, 1px, 1px, 1px);height: 1px;margin: -1px;overflow: hidden;padding: 0;position: absolute;width: 1px;}#sk-container-id-2 div.sk-estimator {font-family: monospace;background-color: #f0f8ff;border: 1px dotted black;border-radius: 0.25em;box-sizing: border-box;margin-bottom: 0.5em;}#sk-container-id-2 div.sk-estimator:hover {background-color: #d4ebff;}#sk-container-id-2 div.sk-parallel-item::after {content: \"\";width: 100%;border-bottom: 1px solid gray;flex-grow: 1;}#sk-container-id-2 div.sk-label:hover label.sk-toggleable__label {background-color: #d4ebff;}#sk-container-id-2 div.sk-serial::before {content: \"\";position: absolute;border-left: 1px solid gray;box-sizing: border-box;top: 0;bottom: 0;left: 50%;z-index: 0;}#sk-container-id-2 div.sk-serial {display: flex;flex-direction: column;align-items: center;background-color: white;padding-right: 0.2em;padding-left: 0.2em;position: relative;}#sk-container-id-2 div.sk-item {position: relative;z-index: 1;}#sk-container-id-2 div.sk-parallel {display: flex;align-items: stretch;justify-content: center;background-color: white;position: relative;}#sk-container-id-2 div.sk-item::before, #sk-container-id-2 div.sk-parallel-item::before {content: \"\";position: absolute;border-left: 1px solid gray;box-sizing: border-box;top: 0;bottom: 0;left: 50%;z-index: -1;}#sk-container-id-2 div.sk-parallel-item {display: flex;flex-direction: column;z-index: 1;position: relative;background-color: white;}#sk-container-id-2 div.sk-parallel-item:first-child::after {align-self: flex-end;width: 50%;}#sk-container-id-2 div.sk-parallel-item:last-child::after {align-self: flex-start;width: 50%;}#sk-container-id-2 div.sk-parallel-item:only-child::after {width: 0;}#sk-container-id-2 div.sk-dashed-wrapped {border: 1px dashed gray;margin: 0 0.4em 0.5em 0.4em;box-sizing: border-box;padding-bottom: 0.4em;background-color: white;}#sk-container-id-2 div.sk-label label {font-family: monospace;font-weight: bold;display: inline-block;line-height: 1.2em;}#sk-container-id-2 div.sk-label-container {text-align: center;}#sk-container-id-2 div.sk-container {/* jupyter's `normalize.less` sets `[hidden] { display: none; }` but bootstrap.min.css set `[hidden] { display: none !important; }` so we also need the `!important` here to be able to override the default hidden behavior on the sphinx rendered scikit-learn.org. See: https://github.com/scikit-learn/scikit-learn/issues/21755 */display: inline-block !important;position: relative;}#sk-container-id-2 div.sk-text-repr-fallback {display: none;}</style><div id=\"sk-container-id-2\" class=\"sk-top-container\"><div class=\"sk-text-repr-fallback\"><pre>LogisticRegression()</pre><b>In a Jupyter environment, please rerun this cell to show the HTML representation or trust the notebook. <br />On GitHub, the HTML representation is unable to render, please try loading this page with nbviewer.org.</b></div><div class=\"sk-container\" hidden><div class=\"sk-item\"><div class=\"sk-estimator sk-toggleable\"><input class=\"sk-toggleable__control sk-hidden--visually\" id=\"sk-estimator-id-2\" type=\"checkbox\" checked><label for=\"sk-estimator-id-2\" class=\"sk-toggleable__label sk-toggleable__label-arrow\">LogisticRegression</label><div class=\"sk-toggleable__content\"><pre>LogisticRegression()</pre></div></div></div></div></div>"
            ]
          },
          "metadata": {},
          "execution_count": 46
        }
      ]
    },
    {
      "cell_type": "code",
      "source": [
        "# Make predictions on the testing set\n",
        "\n",
        "y_pred = model.predict(X_test_scaled)\n",
        "\n",
        "print(y_pred)"
      ],
      "metadata": {
        "colab": {
          "base_uri": "https://localhost:8080/"
        },
        "id": "z4BKZgAZlYWI",
        "outputId": "25c43ad1-3388-4525-b3d5-cb764628381d"
      },
      "execution_count": null,
      "outputs": [
        {
          "output_type": "stream",
          "name": "stdout",
          "text": [
            "[0. 1. 0. 1. 0. 0. 0. 1. 1. 1. 1. 0. 1. 1. 1. 1. 1. 1. 0. 0.]\n"
          ]
        }
      ]
    },
    {
      "cell_type": "code",
      "source": [
        "def plot_reg(X, y, beta):\n",
        "    '''\n",
        "    function to plot decision boundary\n",
        "    '''\n",
        "    # labelled observations\n",
        "    x_0 = X[np.where(y == 0.0)]\n",
        "    x_1 = X[np.where(y == 1.0)]\n",
        "\n",
        "    # plotting points with diff color for diff label\n",
        "    plt.scatter([x_0[:, 1]], [x_0[:, 2]], c='b', label='y = 0')\n",
        "    plt.scatter([x_1[:, 1]], [x_1[:, 2]], c='r', label='y = 1')\n",
        "\n",
        "    # plotting decision boundary\n",
        "    x1 = np.arange(0, 1, 0.1)\n",
        "    x2 = -(beta[0,0] + beta[0,1]*x1)/beta[0,2]\n",
        "    plt.plot(x1, x2, c='k', label='reg line')\n",
        "\n",
        "    plt.xlabel('x1')\n",
        "    plt.ylabel('x2')\n",
        "    plt.legend()\n",
        "    plt.show()"
      ],
      "metadata": {
        "id": "H2Ady_X5l-om"
      },
      "execution_count": null,
      "outputs": []
    },
    {
      "cell_type": "code",
      "source": [
        "plot_reg(X,y, theta)"
      ],
      "metadata": {
        "colab": {
          "base_uri": "https://localhost:8080/",
          "height": 518
        },
        "id": "8dktdZjblddM",
        "outputId": "cf6e9477-0daf-423a-d589-0c2e00d69602"
      },
      "execution_count": null,
      "outputs": [
        {
          "output_type": "stream",
          "name": "stderr",
          "text": [
            "<ipython-input-48-f7a74f429678>:15: RuntimeWarning: divide by zero encountered in divide\n",
            "  x2 = -(beta[0,0] + beta[0,1]*x1)/beta[0,2]\n",
            "<ipython-input-48-f7a74f429678>:15: RuntimeWarning: invalid value encountered in divide\n",
            "  x2 = -(beta[0,0] + beta[0,1]*x1)/beta[0,2]\n"
          ]
        },
        {
          "output_type": "display_data",
          "data": {
            "text/plain": [
              "<Figure size 640x480 with 1 Axes>"
            ],
            "image/png": "[encoded data removed]"
          },
          "metadata": {}
        }
      ]
    },
    {
      "cell_type": "code",
      "source": [],
      "metadata": {
        "id": "pep-w9Bgll7N"
      },
      "execution_count": null,
      "outputs": []
    },
    {
      "cell_type": "code",
      "source": [],
      "metadata": {
        "id": "JURbgn00lo69"
      },
      "execution_count": null,
      "outputs": []
    }
  ]
}